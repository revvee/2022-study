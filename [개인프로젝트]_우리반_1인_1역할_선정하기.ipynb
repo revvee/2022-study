{
  "nbformat": 4,
  "nbformat_minor": 0,
  "metadata": {
    "colab": {
      "name": "[개인프로젝트] 우리반 1인 1역할 선정하기.ipynb",
      "provenance": [],
      "authorship_tag": "ABX9TyN2HQMiCl/NvkpB44m9lDdH",
      "include_colab_link": true
    },
    "kernelspec": {
      "name": "python3",
      "display_name": "Python 3"
    },
    "language_info": {
      "name": "python"
    }
  },
  "cells": [
    {
      "cell_type": "markdown",
      "metadata": {
        "id": "view-in-github",
        "colab_type": "text"
      },
      "source": [
        "<a href=\"https://colab.research.google.com/github/revvee/2022-study/blob/main/%5B%EA%B0%9C%EC%9D%B8%ED%94%84%EB%A1%9C%EC%A0%9D%ED%8A%B8%5D_%EC%9A%B0%EB%A6%AC%EB%B0%98_1%EC%9D%B8_1%EC%97%AD%ED%95%A0_%EC%84%A0%EC%A0%95%ED%95%98%EA%B8%B0.ipynb\" target=\"_parent\"><img src=\"https://colab.research.google.com/assets/colab-badge.svg\" alt=\"Open In Colab\"/></a>"
      ]
    },
    {
      "cell_type": "markdown",
      "source": [
        "### [개인프로젝트] 우리반 1인 1역할 선정하기"
      ],
      "metadata": {
        "id": "5_gVzeyRly31"
      }
    },
    {
      "cell_type": "code",
      "execution_count": null,
      "metadata": {
        "colab": {
          "base_uri": "https://localhost:8080/"
        },
        "id": "dhnNLQx3lwcY",
        "outputId": "9f0094d5-dcd5-49ab-c84c-27204adaed06"
      },
      "outputs": [
        {
          "output_type": "stream",
          "name": "stdout",
          "text": [
            "이번 우리반 1인 1역할은 ?\n",
            "<칠판도우미>  역할입니다\n",
            "역할을 맡을 친구는?\n",
            "<라미란>  입니다\n",
            "이번 우리반 1인 1역할은 ?\n",
            "<청소반장>  역할입니다\n",
            "역할을 맡을 친구는?\n",
            "<이성경>  입니다\n",
            "이번 달 우리반 1인 1역할 선정 내역은 다음과 같습니다.\n",
            "['칠판도우미-라미란', '청소반장-이성경']\n"
          ]
        }
      ],
      "source": [
        "import random\n",
        "import time\n",
        "import csv\n",
        "data = csv.reader(open('우리반 1인1역.csv'))\n",
        "next(data)\n",
        "\n",
        "names = []\n",
        "role = []\n",
        "done = []\n",
        "\n",
        "for row in data :\n",
        "  names.append(row[0])\n",
        "  role.append(row[1])\n",
        "\n",
        "for i in range(1,21) :\n",
        "  if i <= 21 :\n",
        "    random.choice(names)\n",
        "    random.choice(role)\n",
        "    print('이번 우리반 1인 1역할은 ?')\n",
        "    time.sleep(1)\n",
        "    chosen1 = random.choice(role)\n",
        "    print('<' + chosen1 + '>  역할입니다')\n",
        "    role.remove(chosen1)\n",
        "    time.sleep(1)\n",
        "    print('역할을 맡을 친구는?')\n",
        "    time.sleep(1)\n",
        "    chosen2 = random.choice(names)\n",
        "    print('<' + chosen2 + '>  입니다')\n",
        "    names.remove(chosen2)\n",
        "    done.append(chosen1+'-'+chosen2)\n",
        "    time.sleep(1)\n",
        "  else :\n",
        "    break\n",
        "print('이번 달 우리반 1인 1역할 선정 내역은 다음과 같습니다.')\n",
        "print(done)\n"
      ]
    }
  ]
}